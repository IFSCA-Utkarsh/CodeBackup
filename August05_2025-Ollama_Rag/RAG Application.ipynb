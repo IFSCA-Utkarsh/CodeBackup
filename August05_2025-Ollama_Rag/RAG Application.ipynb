{
 "cells": [
  {
   "cell_type": "code",
   "execution_count": 1,
   "id": "d4d73127",
   "metadata": {},
   "outputs": [],
   "source": [
    "import os\n",
    "from langchain.document_loaders import PyPDFLoader\n",
    "from langchain.text_splitter import RecursiveCharacterTextSplitter\n",
    "from langchain.vectorstores import Chroma\n",
    "from langchain_ollama import OllamaEmbeddings\n",
    "from langchain_community.llms import Ollama\n",
    "from langchain.chains import RetrievalQA"
   ]
  },
  {
   "cell_type": "code",
   "execution_count": 2,
   "id": "63653568",
   "metadata": {},
   "outputs": [],
   "source": [
    "pdf_folder = \"RAGData\"\n",
    "documents = []"
   ]
  },
  {
   "cell_type": "code",
   "execution_count": 3,
   "id": "a645d330",
   "metadata": {},
   "outputs": [
    {
     "name": "stdout",
     "output_type": "stream",
     "text": [
      "Loaded 30 documents from Consolidated IFSCA (Payment Services) Regulations, 2024.pdf\n",
      "Loaded 36 documents from Consolidated IFSCA (Registration of Factors and Registration of Assignment of Receivables) Regulations.pdf\n"
     ]
    }
   ],
   "source": [
    "for file in os.listdir(pdf_folder):\n",
    "    if file.endswith(\".pdf\"):\n",
    "        loader = PyPDFLoader(os.path.join(pdf_folder, file))\n",
    "        documents.extend(loader.load())\n",
    "        print(f\"Loaded {len(documents)} documents from {file}\")"
   ]
  },
  {
   "cell_type": "code",
   "execution_count": 4,
   "id": "ec297c89",
   "metadata": {},
   "outputs": [],
   "source": [
    "text_splitter = RecursiveCharacterTextSplitter(chunk_size=200, chunk_overlap=20)"
   ]
  },
  {
   "cell_type": "code",
   "execution_count": 5,
   "id": "d977868e",
   "metadata": {},
   "outputs": [],
   "source": [
    "docs = text_splitter.split_documents(documents)"
   ]
  },
  {
   "cell_type": "code",
   "execution_count": 6,
   "id": "1517bd6c",
   "metadata": {},
   "outputs": [],
   "source": [
    "embedding = OllamaEmbeddings(model=\"nomic-embed-text\")"
   ]
  },
  {
   "cell_type": "code",
   "execution_count": 7,
   "id": "71bfb06e",
   "metadata": {},
   "outputs": [],
   "source": [
    "vectorstore = Chroma.from_documents(\n",
    "    documents=docs,\n",
    "    embedding=embedding,\n",
    "    persist_directory=\"./chroma_db\"  # Persistent local dir\n",
    ")"
   ]
  },
  {
   "cell_type": "code",
   "execution_count": 13,
   "id": "feed2aa9",
   "metadata": {},
   "outputs": [],
   "source": [
    "llm = Ollama(model=\"llama3.1\", num_ctx=2048)"
   ]
  },
  {
   "cell_type": "code",
   "execution_count": 9,
   "id": "f2fb8f6a",
   "metadata": {},
   "outputs": [],
   "source": [
    "retriever = vectorstore.as_retriever(search_kwargs={\"k\": 2})"
   ]
  },
  {
   "cell_type": "code",
   "execution_count": 14,
   "id": "1d79dc32",
   "metadata": {},
   "outputs": [],
   "source": [
    "qa_chain = RetrievalQA.from_chain_type(\n",
    "    llm=llm,\n",
    "    chain_type=\"stuff\",\n",
    "    retriever=retriever,\n",
    "    return_source_documents=True\n",
    ")"
   ]
  },
  {
   "cell_type": "code",
   "execution_count": 15,
   "id": "6a984109",
   "metadata": {},
   "outputs": [],
   "source": [
    "query = \"Who is Central Registrar?\""
   ]
  },
  {
   "cell_type": "code",
   "execution_count": 16,
   "id": "37205fa1",
   "metadata": {},
   "outputs": [],
   "source": [
    "response = qa_chain.invoke(query)"
   ]
  },
  {
   "cell_type": "code",
   "execution_count": 17,
   "id": "bb4092e1",
   "metadata": {},
   "outputs": [
    {
     "name": "stdout",
     "output_type": "stream",
     "text": [
      "Query: Who is Central Registrar?\n"
     ]
    }
   ],
   "source": [
    "print(\"Query:\", query)"
   ]
  },
  {
   "cell_type": "code",
   "execution_count": 18,
   "id": "7e31c630",
   "metadata": {},
   "outputs": [
    {
     "name": "stdout",
     "output_type": "stream",
     "text": [
      "Answer: A person appointed as such under subsection (1) of section 21 of the Securitisation and Reconstruction of Financial Assets and Enforcement of Security Interest Act, 2002 (54 of 2002).\n"
     ]
    }
   ],
   "source": [
    "print(\"Answer:\", response[\"result\"])"
   ]
  },
  {
   "cell_type": "code",
   "execution_count": 19,
   "id": "a736538b",
   "metadata": {},
   "outputs": [
    {
     "name": "stdout",
     "output_type": "stream",
     "text": [
      "\n",
      "Source Documents:\n",
      "- RAGData\\Consolidated IFSCA (Registration of Factors and Registration of Assignment of Receivables) Regulations.pdf: c. “Central Registrar” means a person appointed as such under subsection (1) of \n",
      "section 21 of the S...\n",
      "- RAGData\\Consolidated IFSCA (Registration of Factors and Registration of Assignment of Receivables) Regulations.pdf: Enforcement of Security Interest Act, 2002 (54 of 2002);  \n",
      "d. “Central Registry” means the Central R...\n"
     ]
    }
   ],
   "source": [
    "print(\"\\nSource Documents:\")\n",
    "for doc in response[\"source_documents\"]:\n",
    "    print(f\"- {doc.metadata['source']}: {doc.page_content[:100]}...\")"
   ]
  },
  {
   "cell_type": "code",
   "execution_count": null,
   "id": "2a9383ee",
   "metadata": {},
   "outputs": [],
   "source": []
  }
 ],
 "metadata": {
  "kernelspec": {
   "display_name": "Ollma",
   "language": "python",
   "name": "python3"
  },
  "language_info": {
   "codemirror_mode": {
    "name": "ipython",
    "version": 3
   },
   "file_extension": ".py",
   "mimetype": "text/x-python",
   "name": "python",
   "nbconvert_exporter": "python",
   "pygments_lexer": "ipython3",
   "version": "3.13.5"
  }
 },
 "nbformat": 4,
 "nbformat_minor": 5
}

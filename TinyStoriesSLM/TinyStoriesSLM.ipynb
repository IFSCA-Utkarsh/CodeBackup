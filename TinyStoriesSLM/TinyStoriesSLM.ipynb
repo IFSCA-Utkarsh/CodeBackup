{
 "cells": [
  {
   "cell_type": "code",
   "execution_count": 1,
   "id": "149a2c60",
   "metadata": {},
   "outputs": [
    {
     "name": "stdout",
     "output_type": "stream",
     "text": [
      "JM\n"
     ]
    }
   ],
   "source": [
    "print(\"JM\")"
   ]
  },
  {
   "cell_type": "code",
   "execution_count": null,
   "id": "8aab5470",
   "metadata": {},
   "outputs": [],
   "source": []
  }
 ],
 "metadata": {
  "kernelspec": {
   "display_name": "base",
   "language": "python",
   "name": "python3"
  },
  "language_info": {
   "codemirror_mode": {
    "name": "ipython",
    "version": 3
   },
   "file_extension": ".py",
   "mimetype": "text/x-python",
   "name": "python",
   "nbconvert_exporter": "python",
   "pygments_lexer": "ipython3",
   "version": "3.13.5"
  }
 },
 "nbformat": 4,
 "nbformat_minor": 5
}

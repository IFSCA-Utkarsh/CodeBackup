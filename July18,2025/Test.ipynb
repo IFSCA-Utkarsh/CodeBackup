{
 "cells": [
  {
   "cell_type": "code",
   "execution_count": null,
   "id": "a5018d2d",
   "metadata": {},
   "outputs": [],
   "source": [
    "pip uninstall scikit-learn transformers transformers torch PyMuPDF"
   ]
  },
  {
   "cell_type": "code",
   "execution_count": null,
   "id": "3b5d41fa",
   "metadata": {},
   "outputs": [],
   "source": [
    "pip install scikit-learn"
   ]
  },
  {
   "cell_type": "code",
   "execution_count": null,
   "id": "0fa9879f",
   "metadata": {},
   "outputs": [],
   "source": [
    "pip install transformers"
   ]
  },
  {
   "cell_type": "code",
   "execution_count": null,
   "id": "80103bd5",
   "metadata": {},
   "outputs": [],
   "source": [
    "pip install requests PyMuPDF"
   ]
  },
  {
   "cell_type": "code",
   "execution_count": null,
   "id": "d982acf9",
   "metadata": {},
   "outputs": [],
   "source": [
    "pip install transformers torch"
   ]
  },
  {
   "cell_type": "code",
   "execution_count": null,
   "id": "7266d38d",
   "metadata": {},
   "outputs": [],
   "source": [
    "from sklearn.feature_extraction.text import TfidfVectorizer\n",
    "from transformers import pipeline\n",
    "import pandas as pd\n",
    "import requests\n",
    "import fitz \n",
    "import json\n",
    "import os\n",
    "import re"
   ]
  },
  {
   "cell_type": "code",
   "execution_count": null,
   "id": "48cc3752",
   "metadata": {},
   "outputs": [],
   "source": [
    "def download_pdf(pdf_url, filename=\"downloaded.pdf\"):\n",
    "    response = requests.get(pdf_url)\n",
    "    with open(filename, 'wb') as f:\n",
    "        f.write(response.content)\n",
    "    return filename"
   ]
  },
  {
   "cell_type": "code",
   "execution_count": null,
   "id": "f864d6e3",
   "metadata": {},
   "outputs": [],
   "source": [
    "def pdf_to_json(pdf_path, output_json=\"output.json\"):\n",
    "    doc = fitz.open(pdf_path)\n",
    "    pdf_data = {}\n",
    "\n",
    "    for page_num in range(len(doc)):\n",
    "        page = doc.load_page(page_num)\n",
    "        text = page.get_text()\n",
    "        pdf_data[f\"page_{page_num + 1}\"] = text.strip()\n",
    "\n",
    "    with open(output_json, 'w', encoding='utf-8') as json_file:\n",
    "        json.dump(pdf_data, json_file, indent=2, ensure_ascii=False)\n",
    "\n",
    "    for page, content in pdf_data.items():\n",
    "        print(f\"\\n--- {page} ---\\n{content}\\n\")\n",
    "\n",
    "    return pdf_data\n",
    "\n",
    "    # print(f\"✅ PDF converted and saved to {output_json}\")"
   ]
  },
  {
   "cell_type": "code",
   "execution_count": null,
   "id": "bec25055",
   "metadata": {},
   "outputs": [],
   "source": [
    "local_pdf = download_pdf(\"https://ifsca.gov.in/CommonDirect/GetFileView?id=21626bde60601ef44a0ed0220138e431&fileName=Regulatory_action_s__against_certain_Fund_Management_Entities_for_non_compliance_with_IFSCA__Fund_Management__Regulations__2025_20250718_0112.pdf\")\n",
    "pdf_to_json(local_pdf)"
   ]
  },
  {
   "cell_type": "code",
   "execution_count": null,
   "id": "4e05b041",
   "metadata": {},
   "outputs": [],
   "source": [
    "print(local_pdf)"
   ]
  },
  {
   "cell_type": "code",
   "execution_count": null,
   "id": "0ff4e870",
   "metadata": {},
   "outputs": [],
   "source": [
    "with open(\"output.json\", \"r\", encoding=\"utf-8\") as f:\n",
    "    data = json.load(f)"
   ]
  },
  {
   "cell_type": "code",
   "execution_count": null,
   "id": "cfd2afb4",
   "metadata": {},
   "outputs": [],
   "source": [
    "def clean_text(text):\n",
    "    text = re.sub(r\"\\[image\\]\", \"\", text)\n",
    "    text = re.sub(r\"[•■○]\", \"-\", text)\n",
    "    text = re.sub(r\"-{2,}\", \"-\", text)\n",
    "    text = re.sub(r\"[×]\", \"\", text)\n",
    "    text = re.sub(r\"\\s{2,}\", \" \", text)\n",
    "    text = re.sub(r\"\\n+\", \"\\n\", text)\n",
    "    return text.strip()"
   ]
  },
  {
   "cell_type": "code",
   "execution_count": null,
   "id": "6775d360",
   "metadata": {},
   "outputs": [],
   "source": [
    "cleaned_data = {page: clean_text(content) for page, content in data.items()}"
   ]
  },
  {
   "cell_type": "code",
   "execution_count": null,
   "id": "819a90db",
   "metadata": {},
   "outputs": [],
   "source": [
    "with open(\"pdf_cleaned.json\", \"w\", encoding=\"utf-8\") as f:\n",
    "    json.dump(cleaned_data, f, indent=2, ensure_ascii=False)"
   ]
  },
  {
   "cell_type": "code",
   "execution_count": null,
   "id": "f92118ca",
   "metadata": {},
   "outputs": [],
   "source": [
    "with open(\"pdf_cleaned.json\", \"w\", encoding=\"utf-8\") as f:\n",
    "    json.dump(cleaned_data, f, indent=2, ensure_ascii=False)"
   ]
  },
  {
   "cell_type": "code",
   "execution_count": null,
   "id": "88649469",
   "metadata": {},
   "outputs": [],
   "source": [
    "with open(\"pdf_cleaned.json\", \"r\", encoding=\"utf-8\") as f:\n",
    "    data = json.load(f)"
   ]
  },
  {
   "cell_type": "code",
   "execution_count": null,
   "id": "95862a96",
   "metadata": {},
   "outputs": [],
   "source": [
    "pages = [data[page] for page in sorted(data.keys(), key=lambda x: int(x.split('_')[1]))]"
   ]
  },
  {
   "cell_type": "code",
   "execution_count": null,
   "id": "ebde4b1b",
   "metadata": {},
   "outputs": [],
   "source": [
    "vectorizer = TfidfVectorizer(\n",
    "    stop_words='english',\n",
    "    max_df=0.9, \n",
    "    min_df=1,\n",
    ")"
   ]
  },
  {
   "cell_type": "code",
   "execution_count": null,
   "id": "def4cfaf",
   "metadata": {},
   "outputs": [],
   "source": [
    "tfidf_matrix = vectorizer.fit_transform(pages)"
   ]
  },
  {
   "cell_type": "code",
   "execution_count": null,
   "id": "d639bdd6",
   "metadata": {},
   "outputs": [],
   "source": [
    "df_tfidf = pd.DataFrame(tfidf_matrix.toarray(), columns=vectorizer.get_feature_names_out())\n",
    "df_tfidf.index = [f\"page_{i+1}\" for i in range(len(pages))]"
   ]
  },
  {
   "cell_type": "code",
   "execution_count": null,
   "id": "7ff474bb",
   "metadata": {},
   "outputs": [],
   "source": [
    "df_tfidf.to_csv(\"tfidf_matrix.csv\", index=True)"
   ]
  },
  {
   "cell_type": "code",
   "execution_count": null,
   "id": "b741f59f",
   "metadata": {},
   "outputs": [],
   "source": [
    "print(df_tfidf.head())"
   ]
  },
  {
   "cell_type": "code",
   "execution_count": null,
   "id": "52436832",
   "metadata": {},
   "outputs": [],
   "source": [
    "summarizer = pipeline(\"summarization\")\n"
   ]
  },
  {
   "cell_type": "code",
   "execution_count": null,
   "id": "d967f8d6",
   "metadata": {},
   "outputs": [],
   "source": [
    "with open(\"pdf_cleaned.json\", \"r\", encoding=\"utf-8\") as f:\n",
    "    data = json.load(f)"
   ]
  },
  {
   "cell_type": "code",
   "execution_count": null,
   "id": "11bd01d5",
   "metadata": {},
   "outputs": [],
   "source": [
    "full_text = \"\\n\".join(data[page] for page in sorted(data.keys(), key=lambda x: int(x.split('_')[1])))"
   ]
  },
  {
   "cell_type": "code",
   "execution_count": null,
   "id": "dccde8ee",
   "metadata": {},
   "outputs": [],
   "source": [
    "summary = summarizer(full_text, max_length=150, min_length=50, do_sample=False)"
   ]
  },
  {
   "cell_type": "code",
   "execution_count": null,
   "id": "076267e0",
   "metadata": {},
   "outputs": [],
   "source": [
    "print(\"Summary:\\n\", summary[0]['summary_text'])"
   ]
  },
  {
   "cell_type": "code",
   "execution_count": null,
   "id": "f7efe2f5",
   "metadata": {},
   "outputs": [],
   "source": []
  }
 ],
 "metadata": {
  "kernelspec": {
   "display_name": "base",
   "language": "python",
   "name": "python3"
  },
  "language_info": {
   "codemirror_mode": {
    "name": "ipython",
    "version": 3
   },
   "file_extension": ".py",
   "mimetype": "text/x-python",
   "name": "python",
   "nbconvert_exporter": "python",
   "pygments_lexer": "ipython3",
   "version": "3.13.5"
  }
 },
 "nbformat": 4,
 "nbformat_minor": 5
}

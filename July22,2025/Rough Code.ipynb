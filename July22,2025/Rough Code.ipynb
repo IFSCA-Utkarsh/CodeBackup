{
 "cells": [
  {
   "cell_type": "code",
   "execution_count": 2,
   "id": "3d3bf00a",
   "metadata": {},
   "outputs": [
    {
     "name": "stdout",
     "output_type": "stream",
     "text": [
      "Converted JSONL to CSV and saved to D:/VSCodeProgram/July22,2025/tinystories_format.csv\n"
     ]
    }
   ],
   "source": [
    "import json\n",
    "import csv\n",
    "\n",
    "# Input and output file paths\n",
    "input_file = 'D:/VSCodeProgram/July22,2025/tinystories_format.jsonl'  # file with JSON objects (one per line)\n",
    "output_file = 'D:/VSCodeProgram/July22,2025/tinystories_format.csv'   # desired CSV output file\n",
    "\n",
    "# Read JSON lines and write to CSV\n",
    "with open(input_file, 'r', encoding='utf-8') as json_file, \\\n",
    "     open(output_file, 'w', newline='', encoding='utf-8') as csv_file:\n",
    "\n",
    "    # Prepare CSV writer\n",
    "    writer = csv.DictWriter(csv_file, fieldnames=[\"story\"])\n",
    "    writer.writeheader()  # Write column header\n",
    "\n",
    "    # Process each line (each is a JSON object)\n",
    "    for line in json_file:\n",
    "        record = json.loads(line)\n",
    "        writer.writerow(record)\n",
    "\n",
    "print(f\"Converted JSONL to CSV and saved to {output_file}\")\n"
   ]
  }
 ],
 "metadata": {
  "kernelspec": {
   "display_name": "base",
   "language": "python",
   "name": "python3"
  },
  "language_info": {
   "codemirror_mode": {
    "name": "ipython",
    "version": 3
   },
   "file_extension": ".py",
   "mimetype": "text/x-python",
   "name": "python",
   "nbconvert_exporter": "python",
   "pygments_lexer": "ipython3",
   "version": "3.13.5"
  }
 },
 "nbformat": 4,
 "nbformat_minor": 5
}

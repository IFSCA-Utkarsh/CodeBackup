{
 "cells": [
  {
   "cell_type": "code",
   "execution_count": 10,
   "id": "cbdcddf1",
   "metadata": {},
   "outputs": [],
   "source": [
    "import json\n",
    "import fitz  # PyMuPDF\n",
    "from pathlib import Path\n",
    "import re"
   ]
  },
  {
   "cell_type": "code",
   "execution_count": 2,
   "id": "14e1e578",
   "metadata": {},
   "outputs": [],
   "source": [
    "pdf_path = Path(\"D:\\Files\\ToCleanDataSet.pdf\")\n",
    "doc = fitz.open(pdf_path)"
   ]
  },
  {
   "cell_type": "code",
   "execution_count": 3,
   "id": "8ff9e0e1",
   "metadata": {},
   "outputs": [],
   "source": [
    "paragraphs = []\n",
    "for page in doc:\n",
    "    text = page.get_text()\n",
    "    raw_paragraphs = [p.strip() for p in text.split('\\n') if p.strip()]\n",
    "    paragraphs.extend(raw_paragraphs)"
   ]
  },
  {
   "cell_type": "code",
   "execution_count": 4,
   "id": "8d1db609",
   "metadata": {},
   "outputs": [],
   "source": [
    "filtered_paragraphs = [\n",
    "    p for p in paragraphs\n",
    "    if len(p.split()) > 4  # basic filter to remove headings\n",
    "]"
   ]
  },
  {
   "cell_type": "code",
   "execution_count": 9,
   "id": "70795ad3",
   "metadata": {},
   "outputs": [],
   "source": [
    "from pathlib import Path\n",
    "import json\n",
    "\n",
    "# ✅ Correct file path with filename\n",
    "jsonl_path = Path(\"D:/VSCodeProgram/July19,2025/converted_dataset.jsonl\")\n",
    "\n",
    "# Make sure the parent folder exists\n",
    "jsonl_path.parent.mkdir(parents=True, exist_ok=True)\n",
    "\n",
    "# Write paragraph chunks to the file in JSONL format\n",
    "with open(jsonl_path, \"w\", encoding=\"utf-8\") as f:\n",
    "    for para in filtered_paragraphs:\n",
    "        json.dump({\"text\": para}, f)\n",
    "        f.write(\"\\n\")\n"
   ]
  },
  {
   "cell_type": "code",
   "execution_count": 12,
   "id": "57b37993",
   "metadata": {},
   "outputs": [],
   "source": [
    "input_path = Path(\"D:/VSCodeProgram/July19,2025/converted_dataset.jsonl\")\n",
    "output_path = Path(\"D:/VSCodeProgram/July19,2025/tinystories_format.jsonl\")"
   ]
  },
  {
   "cell_type": "code",
   "execution_count": 13,
   "id": "58f43cfa",
   "metadata": {},
   "outputs": [],
   "source": [
    "with open(input_path, \"r\", encoding=\"utf-8\") as f:\n",
    "    paragraphs = [json.loads(line)[\"text\"] for line in f]"
   ]
  },
  {
   "cell_type": "code",
   "execution_count": 14,
   "id": "22779d89",
   "metadata": {},
   "outputs": [],
   "source": [
    "combined_stories = []\n",
    "current_story = \"\""
   ]
  },
  {
   "cell_type": "code",
   "execution_count": 15,
   "id": "201b7e7e",
   "metadata": {},
   "outputs": [],
   "source": [
    "for line in paragraphs:\n",
    "    # Add space only if the current line doesn't end with punctuation\n",
    "    line = line.strip()\n",
    "    if not current_story:\n",
    "        current_story = line\n",
    "    else:\n",
    "        if re.match(r\".*[\\.\\!\\?]$\", current_story):\n",
    "            # Ends with punctuation, treat as end of sentence/paragraph\n",
    "            combined_stories.append(current_story.strip())\n",
    "            current_story = line\n",
    "        else:\n",
    "            # Continue sentence\n",
    "            current_story += \" \" + line"
   ]
  },
  {
   "cell_type": "code",
   "execution_count": 16,
   "id": "ae06107d",
   "metadata": {},
   "outputs": [],
   "source": [
    "if current_story:\n",
    "    combined_stories.append(current_story.strip())"
   ]
  },
  {
   "cell_type": "code",
   "execution_count": 17,
   "id": "f744c51d",
   "metadata": {},
   "outputs": [],
   "source": [
    "with open(output_path, \"w\", encoding=\"utf-8\") as f:\n",
    "    for story in combined_stories:\n",
    "        json.dump({\"story\": story}, f)\n",
    "        f.write(\"\\n\")"
   ]
  },
  {
   "cell_type": "code",
   "execution_count": null,
   "id": "7cfe4023",
   "metadata": {},
   "outputs": [],
   "source": [
    "import json\n",
    "import re\n",
    "from pathlib import Path\n",
    "\n",
    "# Load lines from the JSONL file\n",
    "input_path = Path(\"D:/VSCodeProgram/July19_2025/converted_dataset.jsonl\")\n",
    "output_path = Path(\"D:/VSCodeProgram/July19_2025/tinystories_format.jsonl\")\n",
    "\n",
    "# Read raw text fragments\n",
    "with open(input_path, \"r\", encoding=\"utf-8\") as f:\n",
    "    paragraphs = [json.loads(line)[\"text\"] for line in f]\n",
    "\n",
    "# Step 1: Combine lines into logical paragraphs\n",
    "combined_stories = []\n",
    "current_story = \"\"\n",
    "\n",
    "for line in paragraphs:\n",
    "    # Add space only if the current line doesn't end with punctuation\n",
    "    line = line.strip()\n",
    "    if not current_story:\n",
    "        current_story = line\n",
    "    else:\n",
    "        if re.match(r\".*[\\.\\!\\?]$\", current_story):\n",
    "            # Ends with punctuation, treat as end of sentence/paragraph\n",
    "            combined_stories.append(current_story.strip())\n",
    "            current_story = line\n",
    "        else:\n",
    "            # Continue sentence\n",
    "            current_story += \" \" + line\n",
    "\n",
    "# Add the final story if any remains\n",
    "if current_story:\n",
    "    combined_stories.append(current_story.strip())\n",
    "\n",
    "# Step 2: Write to TinyStories format\n",
    "with open(output_path, \"w\", encoding=\"utf-8\") as f:\n",
    "    for story in combined_stories:\n",
    "        json.dump({\"story\": story}, f)\n",
    "        f.write(\"\\n\")\n",
    "\n",
    "print(f\"✅ Saved TinyStories-style JSONL to: {output_path}\")\n"
   ]
  }
 ],
 "metadata": {
  "kernelspec": {
   "display_name": "base",
   "language": "python",
   "name": "python3"
  },
  "language_info": {
   "codemirror_mode": {
    "name": "ipython",
    "version": 3
   },
   "file_extension": ".py",
   "mimetype": "text/x-python",
   "name": "python",
   "nbconvert_exporter": "python",
   "pygments_lexer": "ipython3",
   "version": "3.13.5"
  }
 },
 "nbformat": 4,
 "nbformat_minor": 5
}
